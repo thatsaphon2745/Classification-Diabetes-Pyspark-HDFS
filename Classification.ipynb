{
 "cells": [
  {
   "cell_type": "code",
   "execution_count": 1,
   "id": "cafbf11d-aad1-4358-92ca-5d47a13d631d",
   "metadata": {},
   "outputs": [],
   "source": [
    "from pyspark.sql import SparkSession\n",
    "import matplotlib.pyplot as plt\n",
    "import pandas as pd"
   ]
  },
  {
   "cell_type": "code",
   "execution_count": 2,
   "id": "c4da44ff-dd60-4ed0-9fa2-148863d10af8",
   "metadata": {},
   "outputs": [
    {
     "data": {
      "text/html": [
       "\n",
       "            <div>\n",
       "                <p><b>SparkSession - in-memory</b></p>\n",
       "                \n",
       "        <div>\n",
       "            <p><b>SparkContext</b></p>\n",
       "\n",
       "            <p><a href=\"http://LAPTOP-OIEMNL9A:4040\">Spark UI</a></p>\n",
       "\n",
       "            <dl>\n",
       "              <dt>Version</dt>\n",
       "                <dd><code>v3.5.1</code></dd>\n",
       "              <dt>Master</dt>\n",
       "                <dd><code>local[*]</code></dd>\n",
       "              <dt>AppName</dt>\n",
       "                <dd><code>Classification</code></dd>\n",
       "            </dl>\n",
       "        </div>\n",
       "        \n",
       "            </div>\n",
       "        "
      ],
      "text/plain": [
       "<pyspark.sql.session.SparkSession at 0x1d504fb4af0>"
      ]
     },
     "execution_count": 2,
     "metadata": {},
     "output_type": "execute_result"
    }
   ],
   "source": [
    "spark = SparkSession.builder.appName('Classification').getOrCreate()\n",
    "spark"
   ]
  },
  {
   "cell_type": "code",
   "execution_count": 3,
   "id": "7868d845-0f5e-4d59-8c96-31f64d3fab12",
   "metadata": {},
   "outputs": [],
   "source": [
    "dataset = spark.read.csv('hdfs://localhost:9000/user/thatsaphon/diabetes.csv',header=True,inferSchema=True)"
   ]
  },
  {
   "cell_type": "markdown",
   "id": "25ad0e1c-35ab-4c8b-b6b7-af30b6075fe5",
   "metadata": {},
   "source": [
    "- Pregnancies จำนวนครั้งที่ผู้ป่วยเคยตั้งครรภ์\n",
    "- Glucose ระดับน้ำตาลในเลือด\n",
    "- BloodPressure ความดันโลหิต\n",
    "- SkinThickness ความหนาของผิวหนัง\n",
    "- Insulin ระดับอินซูลินในเลือด\n",
    "- BMI ดัชนีมวลกาย (Body Mass Index) ซึ่งคำนวณจากน้ำหนักและส่วนสูง\n",
    "- DiabetesPedigreeFunction ฟังก์ชันที่ใช้วัดความเสี่ยงทางพันธุกรรมของโรคเบาหวาน ซึ่งคำนวณจากข้อมูลทางพันธุกรรมของผู้ป่วยและบรรพบุรุษ\n",
    "- Age อายุของผู้ป่วย\n",
    "- Outcome ผลลัพธ์ของการทดสอบโรคเบาหวาน (0 = ไม่เป็นโรคเบาหวาน, 1 = เป็นโรคเบาหวาน)"
   ]
  },
  {
   "cell_type": "markdown",
   "id": "bb4d2fd8-0b40-403c-a0a2-227026c5245a",
   "metadata": {},
   "source": [
    "### Explore Data"
   ]
  },
  {
   "cell_type": "code",
   "execution_count": 4,
   "id": "7c6a8eea-8278-4734-b0d0-02b955e4ac14",
   "metadata": {},
   "outputs": [
    {
     "name": "stdout",
     "output_type": "stream",
     "text": [
      "+-----------+-------+-------------+-------------+-------+----+------------------------+---+-------+\n",
      "|Pregnancies|Glucose|BloodPressure|SkinThickness|Insulin| BMI|DiabetesPedigreeFunction|Age|Outcome|\n",
      "+-----------+-------+-------------+-------------+-------+----+------------------------+---+-------+\n",
      "|          6|    148|           72|           35|      0|33.6|                   0.627| 50|      1|\n",
      "|          1|     85|           66|           29|      0|26.6|                   0.351| 31|      0|\n",
      "|          8|    183|           64|            0|      0|23.3|                   0.672| 32|      1|\n",
      "|          1|     89|           66|           23|     94|28.1|                   0.167| 21|      0|\n",
      "|          0|    137|           40|           35|    168|43.1|                   2.288| 33|      1|\n",
      "|          5|    116|           74|            0|      0|25.6|                   0.201| 30|      0|\n",
      "|          3|     78|           50|           32|     88|31.0|                   0.248| 26|      1|\n",
      "|         10|    115|            0|            0|      0|35.3|                   0.134| 29|      0|\n",
      "|          2|    197|           70|           45|    543|30.5|                   0.158| 53|      1|\n",
      "|          8|    125|           96|            0|      0| 0.0|                   0.232| 54|      1|\n",
      "|          4|    110|           92|            0|      0|37.6|                   0.191| 30|      0|\n",
      "|         10|    168|           74|            0|      0|38.0|                   0.537| 34|      1|\n",
      "|         10|    139|           80|            0|      0|27.1|                   1.441| 57|      0|\n",
      "|          1|    189|           60|           23|    846|30.1|                   0.398| 59|      1|\n",
      "|          5|    166|           72|           19|    175|25.8|                   0.587| 51|      1|\n",
      "|          7|    100|            0|            0|      0|30.0|                   0.484| 32|      1|\n",
      "|          0|    118|           84|           47|    230|45.8|                   0.551| 31|      1|\n",
      "|          7|    107|           74|            0|      0|29.6|                   0.254| 31|      1|\n",
      "|          1|    103|           30|           38|     83|43.3|                   0.183| 33|      0|\n",
      "|          1|    115|           70|           30|     96|34.6|                   0.529| 32|      1|\n",
      "+-----------+-------+-------------+-------------+-------+----+------------------------+---+-------+\n",
      "only showing top 20 rows\n",
      "\n"
     ]
    }
   ],
   "source": [
    "dataset.show(20)"
   ]
  },
  {
   "cell_type": "code",
   "execution_count": 5,
   "id": "b6ae8e78-d275-4a41-9374-e4c2b5e09239",
   "metadata": {
    "scrolled": true
   },
   "outputs": [
    {
     "name": "stdout",
     "output_type": "stream",
     "text": [
      "root\n",
      " |-- Pregnancies: integer (nullable = true)\n",
      " |-- Glucose: integer (nullable = true)\n",
      " |-- BloodPressure: integer (nullable = true)\n",
      " |-- SkinThickness: integer (nullable = true)\n",
      " |-- Insulin: integer (nullable = true)\n",
      " |-- BMI: double (nullable = true)\n",
      " |-- DiabetesPedigreeFunction: double (nullable = true)\n",
      " |-- Age: integer (nullable = true)\n",
      " |-- Outcome: integer (nullable = true)\n",
      "\n"
     ]
    }
   ],
   "source": [
    "dataset.printSchema()"
   ]
  },
  {
   "cell_type": "code",
   "execution_count": 6,
   "id": "5698772d-aeee-42e5-9673-105b6fe832ff",
   "metadata": {},
   "outputs": [
    {
     "name": "stdout",
     "output_type": "stream",
     "text": [
      "+-------+------------------+-----------------+------------------+------------------+------------------+------------------+------------------------+------------------+------------------+\n",
      "|summary|       Pregnancies|          Glucose|     BloodPressure|     SkinThickness|           Insulin|               BMI|DiabetesPedigreeFunction|               Age|           Outcome|\n",
      "+-------+------------------+-----------------+------------------+------------------+------------------+------------------+------------------------+------------------+------------------+\n",
      "|  count|               768|              768|               768|               768|               768|               768|                     768|               768|               768|\n",
      "|   mean|3.8450520833333335|     120.89453125|       69.10546875|20.536458333333332| 79.79947916666667|31.992578124999977|      0.4718763020833327|33.240885416666664|0.3489583333333333|\n",
      "| stddev|  3.36957806269887|31.97261819513622|19.355807170644777|15.952217567727642|115.24400235133803| 7.884160320375441|       0.331328595012775|11.760231540678689| 0.476951377242799|\n",
      "|    min|                 0|                0|                 0|                 0|                 0|               0.0|                   0.078|                21|                 0|\n",
      "|    max|                17|              199|               122|                99|               846|              67.1|                    2.42|                81|                 1|\n",
      "+-------+------------------+-----------------+------------------+------------------+------------------+------------------+------------------------+------------------+------------------+\n",
      "\n"
     ]
    }
   ],
   "source": [
    "dataset.describe().show()"
   ]
  },
  {
   "cell_type": "code",
   "execution_count": 7,
   "id": "0e9985de-48b0-4267-b1f0-682f28316c60",
   "metadata": {
    "scrolled": true
   },
   "outputs": [
    {
     "data": {
      "text/plain": [
       "(768, 9)"
      ]
     },
     "execution_count": 7,
     "metadata": {},
     "output_type": "execute_result"
    }
   ],
   "source": [
    "dataset_pandas = dataset.toPandas()\n",
    "dataset_pandas.shape"
   ]
  },
  {
   "cell_type": "code",
   "execution_count": 8,
   "id": "fc3f74a5-29f2-4896-84a4-3eab68ac3e5e",
   "metadata": {
    "scrolled": true
   },
   "outputs": [
    {
     "name": "stdout",
     "output_type": "stream",
     "text": [
      "       Pregnancies     Glucose  BloodPressure  SkinThickness     Insulin  \\\n",
      "count   768.000000  768.000000     768.000000     768.000000  768.000000   \n",
      "mean      3.845052  120.894531      69.105469      20.536458   79.799479   \n",
      "std       3.369578   31.972618      19.355807      15.952218  115.244002   \n",
      "min       0.000000    0.000000       0.000000       0.000000    0.000000   \n",
      "25%       1.000000   99.000000      62.000000       0.000000    0.000000   \n",
      "50%       3.000000  117.000000      72.000000      23.000000   30.500000   \n",
      "75%       6.000000  140.250000      80.000000      32.000000  127.250000   \n",
      "max      17.000000  199.000000     122.000000      99.000000  846.000000   \n",
      "\n",
      "              BMI  DiabetesPedigreeFunction         Age     Outcome  \n",
      "count  768.000000                768.000000  768.000000  768.000000  \n",
      "mean    31.992578                  0.471876   33.240885    0.348958  \n",
      "std      7.884160                  0.331329   11.760232    0.476951  \n",
      "min      0.000000                  0.078000   21.000000    0.000000  \n",
      "25%     27.300000                  0.243750   24.000000    0.000000  \n",
      "50%     32.000000                  0.372500   29.000000    0.000000  \n",
      "75%     36.600000                  0.626250   41.000000    1.000000  \n",
      "max     67.100000                  2.420000   81.000000    1.000000  \n"
     ]
    }
   ],
   "source": [
    "print(dataset_pandas.describe())"
   ]
  },
  {
   "cell_type": "code",
   "execution_count": 9,
   "id": "5d7eeefc-ed9d-4591-b0d8-ea4c6a54a44c",
   "metadata": {},
   "outputs": [
    {
     "data": {
      "image/png": "[encoded data removed]",
      "text/plain": [
       "<Figure size 2000x1500 with 9 Axes>"
      ]
     },
     "metadata": {},
     "output_type": "display_data"
    }
   ],
   "source": [
    "dataset_pandas.hist(figsize=(20, 15))\n",
    "plt.show()"
   ]
  },
  {
   "cell_type": "code",
   "execution_count": 10,
   "id": "ded688e7-27f3-4d61-932d-5e6d8a7a0359",
   "metadata": {},
   "outputs": [
    {
     "data": {
      "image/png": "[encoded data removed]",
      "text/plain": [
       "<Figure size 1000x600 with 1 Axes>"
      ]
     },
     "metadata": {},
     "output_type": "display_data"
    }
   ],
   "source": [
    "pandas_df = dataset.toPandas()\n",
    "# ทำการ plot เพื่อดูจำนวนคนที่ไม่เป็นโรคเบาหวาน และเป็นโรคเบาหวาน\n",
    "plt.figure(figsize=(10, 6))\n",
    "pandas_df['Outcome'].value_counts().plot(kind='bar', color=['blue', 'orange'])\n",
    "plt.title('Number of Diabetes Cases vs Non-Diabetes Cases')\n",
    "plt.xlabel('Outcome')\n",
    "plt.ylabel('Number of Cases')\n",
    "plt.xticks([0, 1], ['Non-Diabetes', 'Diabetes'], rotation=0)\n",
    "plt.show()"
   ]
  },
  {
   "cell_type": "code",
   "execution_count": 11,
   "id": "e68b89fa-3b0f-4178-bf58-0ebecb2befb3",
   "metadata": {},
   "outputs": [],
   "source": [
    "#pyspark.sql.functions. ฟังก์ชันนี้ใช้ในการอ้างอิงคอลัมน์ของ DataFrame ใน PySpark\n",
    "from pyspark.sql.functions import col\n",
    "#หลาย algorithm ของ machine learning ต้องการข้อมูลที่เป็น float เช่น อัลกอริทึมใน PySpark MLlib\n",
    "#new_data: DataFrame ใหม่ที่มีคอลัมน์ทั้งหมดของ dataset แต่ชนิดข้อมูลของทุกคอลัมน์จะถูกแปลงเป็น float\n",
    "new_data = dataset.select(*(col(c).cast(\"float\").alias(c) for c in dataset.columns))"
   ]
  },
  {
   "cell_type": "code",
   "execution_count": 12,
   "id": "92c8526d-d037-46af-99bc-426d8fc662f7",
   "metadata": {},
   "outputs": [
    {
     "name": "stdout",
     "output_type": "stream",
     "text": [
      "+-----------+-------+-------------+-------------+-------+----+------------------------+----+-------+\n",
      "|Pregnancies|Glucose|BloodPressure|SkinThickness|Insulin| BMI|DiabetesPedigreeFunction| Age|Outcome|\n",
      "+-----------+-------+-------------+-------------+-------+----+------------------------+----+-------+\n",
      "|        6.0|  148.0|         72.0|         35.0|    0.0|33.6|                   0.627|50.0|    1.0|\n",
      "|        1.0|   85.0|         66.0|         29.0|    0.0|26.6|                   0.351|31.0|    0.0|\n",
      "|        8.0|  183.0|         64.0|          0.0|    0.0|23.3|                   0.672|32.0|    1.0|\n",
      "|        1.0|   89.0|         66.0|         23.0|   94.0|28.1|                   0.167|21.0|    0.0|\n",
      "|        0.0|  137.0|         40.0|         35.0|  168.0|43.1|                   2.288|33.0|    1.0|\n",
      "|        5.0|  116.0|         74.0|          0.0|    0.0|25.6|                   0.201|30.0|    0.0|\n",
      "|        3.0|   78.0|         50.0|         32.0|   88.0|31.0|                   0.248|26.0|    1.0|\n",
      "|       10.0|  115.0|          0.0|          0.0|    0.0|35.3|                   0.134|29.0|    0.0|\n",
      "|        2.0|  197.0|         70.0|         45.0|  543.0|30.5|                   0.158|53.0|    1.0|\n",
      "|        8.0|  125.0|         96.0|          0.0|    0.0| 0.0|                   0.232|54.0|    1.0|\n",
      "|        4.0|  110.0|         92.0|          0.0|    0.0|37.6|                   0.191|30.0|    0.0|\n",
      "|       10.0|  168.0|         74.0|          0.0|    0.0|38.0|                   0.537|34.0|    1.0|\n",
      "|       10.0|  139.0|         80.0|          0.0|    0.0|27.1|                   1.441|57.0|    0.0|\n",
      "|        1.0|  189.0|         60.0|         23.0|  846.0|30.1|                   0.398|59.0|    1.0|\n",
      "|        5.0|  166.0|         72.0|         19.0|  175.0|25.8|                   0.587|51.0|    1.0|\n",
      "|        7.0|  100.0|          0.0|          0.0|    0.0|30.0|                   0.484|32.0|    1.0|\n",
      "|        0.0|  118.0|         84.0|         47.0|  230.0|45.8|                   0.551|31.0|    1.0|\n",
      "|        7.0|  107.0|         74.0|          0.0|    0.0|29.6|                   0.254|31.0|    1.0|\n",
      "|        1.0|  103.0|         30.0|         38.0|   83.0|43.3|                   0.183|33.0|    0.0|\n",
      "|        1.0|  115.0|         70.0|         30.0|   96.0|34.6|                   0.529|32.0|    1.0|\n",
      "+-----------+-------+-------------+-------------+-------+----+------------------------+----+-------+\n",
      "only showing top 20 rows\n",
      "\n"
     ]
    }
   ],
   "source": [
    "new_data.show()"
   ]
  },
  {
   "cell_type": "code",
   "execution_count": 13,
   "id": "76583525-ca02-499d-811b-f93297fb1599",
   "metadata": {
    "scrolled": true
   },
   "outputs": [
    {
     "name": "stdout",
     "output_type": "stream",
     "text": [
      "root\n",
      " |-- Pregnancies: float (nullable = true)\n",
      " |-- Glucose: float (nullable = true)\n",
      " |-- BloodPressure: float (nullable = true)\n",
      " |-- SkinThickness: float (nullable = true)\n",
      " |-- Insulin: float (nullable = true)\n",
      " |-- BMI: float (nullable = true)\n",
      " |-- DiabetesPedigreeFunction: float (nullable = true)\n",
      " |-- Age: float (nullable = true)\n",
      " |-- Outcome: float (nullable = true)\n",
      "\n"
     ]
    }
   ],
   "source": [
    "new_data.printSchema()"
   ]
  },
  {
   "cell_type": "code",
   "execution_count": 14,
   "id": "9ddeab87-c5bd-4e5d-b709-a06f6baea83d",
   "metadata": {
    "scrolled": true
   },
   "outputs": [
    {
     "name": "stdout",
     "output_type": "stream",
     "text": [
      "+-----------+-------+-------------+-------------+-------+---+------------------------+---+-------+\n",
      "|Pregnancies|Glucose|BloodPressure|SkinThickness|Insulin|BMI|DiabetesPedigreeFunction|Age|Outcome|\n",
      "+-----------+-------+-------------+-------------+-------+---+------------------------+---+-------+\n",
      "|          0|      0|            0|            0|      0|  0|                       0|  0|      0|\n",
      "+-----------+-------+-------------+-------------+-------+---+------------------------+---+-------+\n",
      "\n"
     ]
    }
   ],
   "source": [
    "from pyspark.sql.functions import col, count, isnan, when\n",
    "#checking for null or nan type values in our columns\n",
    "new_data.select([count(when(col(c).isNull(), c)).alias(c) for c in new_data.columns]).show()"
   ]
  },
  {
   "cell_type": "code",
   "execution_count": 15,
   "id": "394ae2ca-f684-431e-afa2-d2dde2f4a49e",
   "metadata": {},
   "outputs": [
    {
     "name": "stdout",
     "output_type": "stream",
     "text": [
      "+-----------------------------------------------------------------------+-------+\n",
      "|features                                                               |Outcome|\n",
      "+-----------------------------------------------------------------------+-------+\n",
      "|[6.0,148.0,72.0,35.0,0.0,33.599998474121094,0.6269999742507935,50.0]   |1.0    |\n",
      "|[1.0,85.0,66.0,29.0,0.0,26.600000381469727,0.35100001096725464,31.0]   |0.0    |\n",
      "|[8.0,183.0,64.0,0.0,0.0,23.299999237060547,0.671999990940094,32.0]     |1.0    |\n",
      "|[1.0,89.0,66.0,23.0,94.0,28.100000381469727,0.16699999570846558,21.0]  |0.0    |\n",
      "|[0.0,137.0,40.0,35.0,168.0,43.099998474121094,2.2880001068115234,33.0] |1.0    |\n",
      "|[5.0,116.0,74.0,0.0,0.0,25.600000381469727,0.20100000500679016,30.0]   |0.0    |\n",
      "|[3.0,78.0,50.0,32.0,88.0,31.0,0.24799999594688416,26.0]                |1.0    |\n",
      "|[10.0,115.0,0.0,0.0,0.0,35.29999923706055,0.1340000033378601,29.0]     |0.0    |\n",
      "|[2.0,197.0,70.0,45.0,543.0,30.5,0.15800000727176666,53.0]              |1.0    |\n",
      "|[8.0,125.0,96.0,0.0,0.0,0.0,0.23199999332427979,54.0]                  |1.0    |\n",
      "|[4.0,110.0,92.0,0.0,0.0,37.599998474121094,0.19099999964237213,30.0]   |0.0    |\n",
      "|[10.0,168.0,74.0,0.0,0.0,38.0,0.5370000004768372,34.0]                 |1.0    |\n",
      "|[10.0,139.0,80.0,0.0,0.0,27.100000381469727,1.440999984741211,57.0]    |0.0    |\n",
      "|[1.0,189.0,60.0,23.0,846.0,30.100000381469727,0.39800000190734863,59.0]|1.0    |\n",
      "|[5.0,166.0,72.0,19.0,175.0,25.799999237060547,0.5870000123977661,51.0] |1.0    |\n",
      "|[7.0,100.0,0.0,0.0,0.0,30.0,0.48399999737739563,32.0]                  |1.0    |\n",
      "|[0.0,118.0,84.0,47.0,230.0,45.79999923706055,0.5509999990463257,31.0]  |1.0    |\n",
      "|[7.0,107.0,74.0,0.0,0.0,29.600000381469727,0.2540000081062317,31.0]    |1.0    |\n",
      "|[1.0,103.0,30.0,38.0,83.0,43.29999923706055,0.18299999833106995,33.0]  |0.0    |\n",
      "|[1.0,115.0,70.0,30.0,96.0,34.599998474121094,0.5289999842643738,32.0]  |1.0    |\n",
      "+-----------------------------------------------------------------------+-------+\n",
      "only showing top 20 rows\n",
      "\n"
     ]
    }
   ],
   "source": [
    "from pyspark.ml.feature import VectorAssembler\n",
    "cols=new_data.columns\n",
    "# outcome คือ label ที่ต้องการ predict เลยต้องลบออก เอาเฉพาะ feature มา train\n",
    "cols.remove(\"Outcome\")\n",
    "assembler = VectorAssembler(inputCols=cols,outputCol=\"features\")\n",
    "\n",
    "#รวมคอลัมน์ต่าง ๆ ใน DataFrame new_data เข้าเป็นคอลัมน์เดียวชื่อ features และเก็บผลลัพธ์ไว้ใน DataFrame ใหม่ที่ชื่อว่า data ; 8 attributes\n",
    "data=assembler.transform(new_data)\n",
    "#แสดงผลลัพธ์โดยไม่ตัดข้อความ (truncate=False)\n",
    "data.select(\"features\",'Outcome').show(truncate=False)"
   ]
  },
  {
   "cell_type": "code",
   "execution_count": 16,
   "id": "45052cf4-aa4c-47c1-887f-9dcc1135e0ed",
   "metadata": {},
   "outputs": [
    {
     "data": {
      "text/plain": [
       "['Pregnancies',\n",
       " 'Glucose',\n",
       " 'BloodPressure',\n",
       " 'SkinThickness',\n",
       " 'Insulin',\n",
       " 'BMI',\n",
       " 'DiabetesPedigreeFunction',\n",
       " 'Age',\n",
       " 'Outcome']"
      ]
     },
     "execution_count": 16,
     "metadata": {},
     "output_type": "execute_result"
    }
   ],
   "source": [
    "new_data.columns"
   ]
  },
  {
   "cell_type": "code",
   "execution_count": 17,
   "id": "7df7fa19-cf37-473a-a92b-563a856d3a23",
   "metadata": {},
   "outputs": [
    {
     "data": {
      "text/plain": [
       "['Pregnancies',\n",
       " 'Glucose',\n",
       " 'BloodPressure',\n",
       " 'SkinThickness',\n",
       " 'Insulin',\n",
       " 'BMI',\n",
       " 'DiabetesPedigreeFunction',\n",
       " 'Age']"
      ]
     },
     "execution_count": 17,
     "metadata": {},
     "output_type": "execute_result"
    }
   ],
   "source": [
    "cols"
   ]
  },
  {
   "cell_type": "code",
   "execution_count": 18,
   "id": "4ad661bf-e9e5-441a-a6c4-b2c3426a1e80",
   "metadata": {},
   "outputs": [],
   "source": [
    "#การ Scale ข้อมูลใน Machine Learning คือการปรับค่าของแต่ละ feature ให้มีค่าอยู่ในช่วงเดียวกันหรือประมาณกัน เพื่อให้โมเดลสามารถเรียนรู้และทำนายผลได้ดีขึ้น โดยทั่วไปแล้ว Scale จะใช้กับข้อมูลที่มีค่าต่างกันมากๆ \n",
    "#เช่น ข้อมูลที่มีหน่วยวัดต่างกัน เช่น น้ำหนัก (kg), ความยาว (cm), อุณหภูมิ (Celsius) เป็นต้น\n",
    "#กระจายข้อมูลให้มีค่า mean 0 และ std 1\n",
    "from pyspark.ml.feature import StandardScaler\n",
    "standardscaler=StandardScaler().setInputCol(\"features\").setOutputCol(\"Scaled_features\")\n",
    "data=standardscaler.fit(data).transform(data)"
   ]
  },
  {
   "cell_type": "code",
   "execution_count": 19,
   "id": "ffa876b1-a3e4-4700-9e60-f905ddb567c8",
   "metadata": {},
   "outputs": [
    {
     "name": "stdout",
     "output_type": "stream",
     "text": [
      "+-----------+-------+-------------+-------------+-------+----+------------------------+----+-------+--------------------+--------------------+\n",
      "|Pregnancies|Glucose|BloodPressure|SkinThickness|Insulin| BMI|DiabetesPedigreeFunction| Age|Outcome|            features|     Scaled_features|\n",
      "+-----------+-------+-------------+-------------+-------+----+------------------------+----+-------+--------------------+--------------------+\n",
      "|        6.0|  148.0|         72.0|         35.0|    0.0|33.6|                   0.627|50.0|    1.0|[6.0,148.0,72.0,3...|[1.78063837321943...|\n",
      "|        1.0|   85.0|         66.0|         29.0|    0.0|26.6|                   0.351|31.0|    0.0|[1.0,85.0,66.0,29...|[0.29677306220323...|\n",
      "|        8.0|  183.0|         64.0|          0.0|    0.0|23.3|                   0.672|32.0|    1.0|[8.0,183.0,64.0,0...|[2.37418449762590...|\n",
      "|        1.0|   89.0|         66.0|         23.0|   94.0|28.1|                   0.167|21.0|    0.0|[1.0,89.0,66.0,23...|[0.29677306220323...|\n",
      "|        0.0|  137.0|         40.0|         35.0|  168.0|43.1|                   2.288|33.0|    1.0|[0.0,137.0,40.0,3...|[0.0,4.2849165233...|\n",
      "|        5.0|  116.0|         74.0|          0.0|    0.0|25.6|                   0.201|30.0|    0.0|[5.0,116.0,74.0,0...|[1.48386531101619...|\n",
      "|        3.0|   78.0|         50.0|         32.0|   88.0|31.0|                   0.248|26.0|    1.0|[3.0,78.0,50.0,32...|[0.89031918660971...|\n",
      "|       10.0|  115.0|          0.0|          0.0|    0.0|35.3|                   0.134|29.0|    0.0|[10.0,115.0,0.0,0...|[2.96773062203238...|\n",
      "|        2.0|  197.0|         70.0|         45.0|  543.0|30.5|                   0.158|53.0|    1.0|[2.0,197.0,70.0,4...|[0.59354612440647...|\n",
      "|        8.0|  125.0|         96.0|          0.0|    0.0| 0.0|                   0.232|54.0|    1.0|[8.0,125.0,96.0,0...|[2.37418449762590...|\n",
      "|        4.0|  110.0|         92.0|          0.0|    0.0|37.6|                   0.191|30.0|    0.0|[4.0,110.0,92.0,0...|[1.18709224881295...|\n",
      "|       10.0|  168.0|         74.0|          0.0|    0.0|38.0|                   0.537|34.0|    1.0|[10.0,168.0,74.0,...|[2.96773062203238...|\n",
      "|       10.0|  139.0|         80.0|          0.0|    0.0|27.1|                   1.441|57.0|    0.0|[10.0,139.0,80.0,...|[2.96773062203238...|\n",
      "|        1.0|  189.0|         60.0|         23.0|  846.0|30.1|                   0.398|59.0|    1.0|[1.0,189.0,60.0,2...|[0.29677306220323...|\n",
      "|        5.0|  166.0|         72.0|         19.0|  175.0|25.8|                   0.587|51.0|    1.0|[5.0,166.0,72.0,1...|[1.48386531101619...|\n",
      "|        7.0|  100.0|          0.0|          0.0|    0.0|30.0|                   0.484|32.0|    1.0|[7.0,100.0,0.0,0....|[2.07741143542266...|\n",
      "|        0.0|  118.0|         84.0|         47.0|  230.0|45.8|                   0.551|31.0|    1.0|[0.0,118.0,84.0,4...|[0.0,3.6906580274...|\n",
      "|        7.0|  107.0|         74.0|          0.0|    0.0|29.6|                   0.254|31.0|    1.0|[7.0,107.0,74.0,0...|[2.07741143542266...|\n",
      "|        1.0|  103.0|         30.0|         38.0|   83.0|43.3|                   0.183|33.0|    0.0|[1.0,103.0,30.0,3...|[0.29677306220323...|\n",
      "|        1.0|  115.0|         70.0|         30.0|   96.0|34.6|                   0.529|32.0|    1.0|[1.0,115.0,70.0,3...|[0.29677306220323...|\n",
      "+-----------+-------+-------------+-------------+-------+----+------------------------+----+-------+--------------------+--------------------+\n",
      "only showing top 20 rows\n",
      "\n"
     ]
    }
   ],
   "source": [
    "data.show()"
   ]
  },
  {
   "cell_type": "code",
   "execution_count": 20,
   "id": "c542a517-8bb3-4479-8094-9ee979e48c40",
   "metadata": {},
   "outputs": [
    {
     "name": "stdout",
     "output_type": "stream",
     "text": [
      "+--------------------+--------------------+-------+\n",
      "|            features|     Scaled_features|Outcome|\n",
      "+--------------------+--------------------+-------+\n",
      "|[6.0,148.0,72.0,3...|[1.78063837321943...|    1.0|\n",
      "|[1.0,85.0,66.0,29...|[0.29677306220323...|    0.0|\n",
      "|[8.0,183.0,64.0,0...|[2.37418449762590...|    1.0|\n",
      "|[1.0,89.0,66.0,23...|[0.29677306220323...|    0.0|\n",
      "|[0.0,137.0,40.0,3...|[0.0,4.2849165233...|    1.0|\n",
      "|[5.0,116.0,74.0,0...|[1.48386531101619...|    0.0|\n",
      "|[3.0,78.0,50.0,32...|[0.89031918660971...|    1.0|\n",
      "|[10.0,115.0,0.0,0...|[2.96773062203238...|    0.0|\n",
      "|[2.0,197.0,70.0,4...|[0.59354612440647...|    1.0|\n",
      "|[8.0,125.0,96.0,0...|[2.37418449762590...|    1.0|\n",
      "|[4.0,110.0,92.0,0...|[1.18709224881295...|    0.0|\n",
      "|[10.0,168.0,74.0,...|[2.96773062203238...|    1.0|\n",
      "|[10.0,139.0,80.0,...|[2.96773062203238...|    0.0|\n",
      "|[1.0,189.0,60.0,2...|[0.29677306220323...|    1.0|\n",
      "|[5.0,166.0,72.0,1...|[1.48386531101619...|    1.0|\n",
      "|[7.0,100.0,0.0,0....|[2.07741143542266...|    1.0|\n",
      "|[0.0,118.0,84.0,4...|[0.0,3.6906580274...|    1.0|\n",
      "|[7.0,107.0,74.0,0...|[2.07741143542266...|    1.0|\n",
      "|[1.0,103.0,30.0,3...|[0.29677306220323...|    0.0|\n",
      "|[1.0,115.0,70.0,3...|[0.29677306220323...|    1.0|\n",
      "+--------------------+--------------------+-------+\n",
      "only showing top 20 rows\n",
      "\n"
     ]
    }
   ],
   "source": [
    "data.select(\"features\",'Scaled_features','Outcome').show()"
   ]
  },
  {
   "cell_type": "code",
   "execution_count": 21,
   "id": "36a19e4b-0d44-44fd-bb2a-710a6a5b3171",
   "metadata": {},
   "outputs": [
    {
     "name": "stdout",
     "output_type": "stream",
     "text": [
      "+--------------------+-------+\n",
      "|     Scaled_features|Outcome|\n",
      "+--------------------+-------+\n",
      "|[1.78063837321943...|    1.0|\n",
      "|[0.29677306220323...|    0.0|\n",
      "|[2.37418449762590...|    1.0|\n",
      "|[0.29677306220323...|    0.0|\n",
      "|[0.0,4.2849165233...|    1.0|\n",
      "|[1.48386531101619...|    0.0|\n",
      "|[0.89031918660971...|    1.0|\n",
      "|[2.96773062203238...|    0.0|\n",
      "|[0.59354612440647...|    1.0|\n",
      "|[2.37418449762590...|    1.0|\n",
      "|[1.18709224881295...|    0.0|\n",
      "|[2.96773062203238...|    1.0|\n",
      "|[2.96773062203238...|    0.0|\n",
      "|[0.29677306220323...|    1.0|\n",
      "|[1.48386531101619...|    1.0|\n",
      "|[2.07741143542266...|    1.0|\n",
      "|[0.0,3.6906580274...|    1.0|\n",
      "|[2.07741143542266...|    1.0|\n",
      "|[0.29677306220323...|    0.0|\n",
      "|[0.29677306220323...|    1.0|\n",
      "+--------------------+-------+\n",
      "only showing top 20 rows\n",
      "\n"
     ]
    }
   ],
   "source": [
    "assembled_data = data.select(\"Scaled_features\",\"Outcome\")\n",
    "assembled_data.show()"
   ]
  },
  {
   "cell_type": "code",
   "execution_count": 22,
   "id": "f275b4d8-8598-4926-996e-dae074d5a448",
   "metadata": {},
   "outputs": [
    {
     "name": "stdout",
     "output_type": "stream",
     "text": [
      "+--------------------+-------+\n",
      "|     Scaled_features|Outcome|\n",
      "+--------------------+-------+\n",
      "|(8,[0,1,6,7],[0.5...|    0.0|\n",
      "|(8,[0,1,6,7],[0.5...|    0.0|\n",
      "|(8,[0,1,6,7],[0.8...|    0.0|\n",
      "|(8,[0,1,6,7],[1.7...|    0.0|\n",
      "|(8,[1,5,6,7],[3.0...|    0.0|\n",
      "|(8,[1,5,6,7],[3.6...|    0.0|\n",
      "|(8,[1,5,6,7],[4.3...|    1.0|\n",
      "|(8,[1,5,6,7],[4.4...|    1.0|\n",
      "|(8,[1,5,6,7],[4.5...|    1.0|\n",
      "|(8,[1,6,7],[2.940...|    0.0|\n",
      "|[0.0,1.7827754878...|    0.0|\n",
      "|[0.0,2.0955431172...|    0.0|\n",
      "|[0.0,2.3144804578...|    0.0|\n",
      "|[0.0,2.4395875096...|    0.0|\n",
      "|[0.0,2.6898016132...|    0.0|\n",
      "|[0.0,2.8461854279...|    0.0|\n",
      "|[0.0,2.8461854279...|    0.0|\n",
      "|[0.0,2.9087389538...|    0.0|\n",
      "|[0.0,2.9712924797...|    0.0|\n",
      "|[0.0,3.0338460056...|    0.0|\n",
      "+--------------------+-------+\n",
      "only showing top 20 rows\n",
      "\n"
     ]
    }
   ],
   "source": [
    "# train 70%, test 30%\n",
    "train, test = assembled_data.randomSplit([0.7, 0.3])\n",
    "train.show()"
   ]
  },
  {
   "cell_type": "code",
   "execution_count": 23,
   "id": "ecdd310b-5a0d-4b51-b5a6-e87347a8c72d",
   "metadata": {},
   "outputs": [
    {
     "name": "stdout",
     "output_type": "stream",
     "text": [
      "+--------------------+-------+\n",
      "|     Scaled_features|Outcome|\n",
      "+--------------------+-------+\n",
      "|(8,[0,1,6,7],[2.0...|    0.0|\n",
      "|(8,[0,1,6,7],[2.9...|    1.0|\n",
      "|(8,[1,5,6,7],[2.2...|    0.0|\n",
      "|(8,[1,5,6,7],[3.7...|    1.0|\n",
      "|(8,[1,5,6,7],[4.0...|    1.0|\n",
      "|(8,[1,5,6,7],[5.2...|    1.0|\n",
      "|[0.0,2.6272480873...|    0.0|\n",
      "|[0.0,2.6272480873...|    0.0|\n",
      "|[0.0,2.9087389538...|    0.0|\n",
      "|[0.0,2.9087389538...|    0.0|\n",
      "|[0.0,2.9400157167...|    0.0|\n",
      "|[0.0,2.9712924797...|    0.0|\n",
      "|[0.0,2.9712924797...|    1.0|\n",
      "|[0.0,3.1589530573...|    0.0|\n",
      "|[0.0,3.1902298203...|    0.0|\n",
      "|[0.0,3.1902298203...|    0.0|\n",
      "|[0.0,3.1902298203...|    0.0|\n",
      "|[0.0,3.1902298203...|    0.0|\n",
      "|[0.0,3.2527833462...|    0.0|\n",
      "|[0.0,3.3153368721...|    0.0|\n",
      "+--------------------+-------+\n",
      "only showing top 20 rows\n",
      "\n"
     ]
    }
   ],
   "source": [
    "test.show()"
   ]
  },
  {
   "cell_type": "markdown",
   "id": "b48d2593-3fd9-4638-8fc8-fc3b97e91e2b",
   "metadata": {},
   "source": [
    "# Modelling"
   ]
  },
  {
   "cell_type": "markdown",
   "id": "0439ddcb-d8fe-44bd-860d-0f5bb5e3c795",
   "metadata": {},
   "source": [
    "## Logistic Regression"
   ]
  },
  {
   "cell_type": "code",
   "execution_count": 24,
   "id": "9b74a7cd-e4bd-403d-af48-2c23afb5b5a3",
   "metadata": {},
   "outputs": [],
   "source": [
    "from pyspark.ml.classification import LogisticRegression\n",
    "# สร้างออบเจกต์ Logistic Regression\n",
    "# labelCol=\"Outcome\" กำหนด Outcome เป็น label ที่จะ predict\n",
    "# featuresCol=\"Scaled_features\" กำหนดคอลัมน์ Scaled_features เป็นคอลัมน์ที่ใช้ features สำหรับ train model\n",
    "# maxIter=40 กำหนดจำนวนการทำซ้ำสูงสุด (maximum iterations)\n",
    "log_regress = LogisticRegression(labelCol=\"Outcome\", featuresCol=\"Scaled_features\",maxIter=40)\n",
    "# นำ train data มา train ให้กับ LogisticRegression model\n",
    "model=log_regress.fit(train)"
   ]
  },
  {
   "cell_type": "code",
   "execution_count": 25,
   "id": "d8434625-ddd3-4fce-9d3e-81b130af9a5a",
   "metadata": {
    "scrolled": true
   },
   "outputs": [
    {
     "name": "stdout",
     "output_type": "stream",
     "text": [
      "+--------------------+-------+--------------------+--------------------+----------+\n",
      "|     Scaled_features|Outcome|       rawPrediction|         probability|prediction|\n",
      "+--------------------+-------+--------------------+--------------------+----------+\n",
      "|(8,[0,1,6,7],[2.0...|    0.0|[3.58761387745911...|[0.97308044750379...|       0.0|\n",
      "|(8,[0,1,6,7],[2.9...|    1.0|[2.79612336196930...|[0.94246597803760...|       0.0|\n",
      "|(8,[1,5,6,7],[2.2...|    0.0|[3.28628143567193...|[0.96395517305103...|       0.0|\n",
      "|(8,[1,5,6,7],[3.7...|    1.0|[0.87766250850906...|[0.70633760136072...|       0.0|\n",
      "|(8,[1,5,6,7],[4.0...|    1.0|[-0.7020930432397...|[0.33134833667152...|       1.0|\n",
      "|(8,[1,5,6,7],[5.2...|    1.0|[-1.2780446703017...|[0.21788324776816...|       1.0|\n",
      "|[0.0,2.6272480873...|    0.0|[2.32191503620530...|[0.91067584252414...|       0.0|\n",
      "|[0.0,2.6272480873...|    0.0|[2.50220594841335...|[0.92429632054225...|       0.0|\n",
      "|[0.0,2.9087389538...|    0.0|[2.17451349082373...|[0.89793735288864...|       0.0|\n",
      "|[0.0,2.9087389538...|    0.0|[1.01821709344190...|[0.73462516542232...|       0.0|\n",
      "|[0.0,2.9400157167...|    0.0|[1.48393931214060...|[0.81516685333939...|       0.0|\n",
      "|[0.0,2.9712924797...|    0.0|[2.03679266414491...|[0.88460627312652...|       0.0|\n",
      "|[0.0,2.9712924797...|    1.0|[2.19419946807028...|[0.89972741052877...|       0.0|\n",
      "|[0.0,3.1589530573...|    0.0|[2.98111296967066...|[0.95171354338304...|       0.0|\n",
      "|[0.0,3.1902298203...|    0.0|[3.00316601851160...|[0.95271695219564...|       0.0|\n",
      "|[0.0,3.1902298203...|    0.0|[5.32531273003938...|[0.99515674253213...|       0.0|\n",
      "|[0.0,3.1902298203...|    0.0|[2.12267602430750...|[0.89308771071145...|       0.0|\n",
      "|[0.0,3.1902298203...|    0.0|[2.49508721884406...|[0.92379669731770...|       0.0|\n",
      "|[0.0,3.2527833462...|    0.0|[2.50983012173794...|[0.92482808124628...|       0.0|\n",
      "|[0.0,3.3153368721...|    0.0|[1.27295710883770...|[0.78124853591379...|       0.0|\n",
      "+--------------------+-------+--------------------+--------------------+----------+\n",
      "only showing top 20 rows\n",
      "\n"
     ]
    }
   ],
   "source": [
    "# นำ model ที่ train ไว้มา predict ชุุดข้อมูล test set\n",
    "prediction_test=model.transform(test)\n",
    "prediction_test.show()"
   ]
  },
  {
   "cell_type": "code",
   "execution_count": 26,
   "id": "8f1abf6b-5295-44a9-b80e-4571ec1f8a80",
   "metadata": {},
   "outputs": [
    {
     "name": "stdout",
     "output_type": "stream",
     "text": [
      "+-------+----------+\n",
      "|Outcome|prediction|\n",
      "+-------+----------+\n",
      "|    0.0|       0.0|\n",
      "|    1.0|       0.0|\n",
      "|    0.0|       0.0|\n",
      "|    1.0|       0.0|\n",
      "|    1.0|       1.0|\n",
      "|    1.0|       1.0|\n",
      "|    0.0|       0.0|\n",
      "|    0.0|       0.0|\n",
      "|    0.0|       0.0|\n",
      "|    0.0|       0.0|\n",
      "|    0.0|       0.0|\n",
      "|    0.0|       0.0|\n",
      "|    1.0|       0.0|\n",
      "|    0.0|       0.0|\n",
      "|    0.0|       0.0|\n",
      "|    0.0|       0.0|\n",
      "|    0.0|       0.0|\n",
      "|    0.0|       0.0|\n",
      "|    0.0|       0.0|\n",
      "|    0.0|       0.0|\n",
      "+-------+----------+\n",
      "only showing top 20 rows\n",
      "\n"
     ]
    }
   ],
   "source": [
    "# เปรียบเทียบค่าควา่มจริงกับ ค่าที่ Logistic Regression Model ทำนายได้\n",
    "prediction_test.select(\"Outcome\",\"prediction\").show()"
   ]
  },
  {
   "cell_type": "code",
   "execution_count": 27,
   "id": "039f7709-b251-42e1-8eb7-55968f2e3a46",
   "metadata": {},
   "outputs": [],
   "source": [
    "# ใช้เมธอด rdd เพื่อแปลง DataFrame ที่เลือกคอลัมน์แล้วเป็น RDD\n",
    "# RDD (Resilient Distributed Dataset) เป็นโครงสร้างข้อมูลพื้นฐานใน Spark ที่สามารถจัดการข้อมูลแบบกระจายและรองรับการประมวลผลแบบ parallel\n",
    "# แปลง DataFrame ที่มีการคาดการณ์ (predictions) เป็น RDD เพื่อให้สามารถใช้กับ API ของ PySpark MLlib ที่ต้องการ RDD และเพื่อทำการคำนวณเมตริกต่างๆ ที่เกี่ยวข้องกับการประเมินโมเดลการจำแนกประเภท\n",
    "# Compute raw scores on the test set\n",
    "predictionAndLabels = prediction_test.select(\"Outcome\",\"prediction\").rdd"
   ]
  },
  {
   "cell_type": "code",
   "execution_count": 28,
   "id": "45a27c24-b7f6-4841-b0c9-d1487a97ca79",
   "metadata": {},
   "outputs": [
    {
     "data": {
      "text/plain": [
       "[Row(Outcome=0.0, prediction=0.0),\n",
       " Row(Outcome=1.0, prediction=0.0),\n",
       " Row(Outcome=0.0, prediction=0.0),\n",
       " Row(Outcome=1.0, prediction=0.0),\n",
       " Row(Outcome=1.0, prediction=1.0),\n",
       " Row(Outcome=1.0, prediction=1.0),\n",
       " Row(Outcome=0.0, prediction=0.0),\n",
       " Row(Outcome=0.0, prediction=0.0),\n",
       " Row(Outcome=0.0, prediction=0.0),\n",
       " Row(Outcome=0.0, prediction=0.0),\n",
       " Row(Outcome=0.0, prediction=0.0),\n",
       " Row(Outcome=0.0, prediction=0.0),\n",
       " Row(Outcome=1.0, prediction=0.0),\n",
       " Row(Outcome=0.0, prediction=0.0),\n",
       " Row(Outcome=0.0, prediction=0.0),\n",
       " Row(Outcome=0.0, prediction=0.0),\n",
       " Row(Outcome=0.0, prediction=0.0),\n",
       " Row(Outcome=0.0, prediction=0.0),\n",
       " Row(Outcome=0.0, prediction=0.0),\n",
       " Row(Outcome=0.0, prediction=0.0),\n",
       " Row(Outcome=1.0, prediction=0.0),\n",
       " Row(Outcome=0.0, prediction=0.0),\n",
       " Row(Outcome=1.0, prediction=0.0),\n",
       " Row(Outcome=0.0, prediction=0.0),\n",
       " Row(Outcome=1.0, prediction=0.0),\n",
       " Row(Outcome=0.0, prediction=0.0),\n",
       " Row(Outcome=0.0, prediction=0.0),\n",
       " Row(Outcome=0.0, prediction=0.0),\n",
       " Row(Outcome=1.0, prediction=0.0),\n",
       " Row(Outcome=1.0, prediction=0.0),\n",
       " Row(Outcome=0.0, prediction=0.0),\n",
       " Row(Outcome=0.0, prediction=0.0),\n",
       " Row(Outcome=1.0, prediction=0.0),\n",
       " Row(Outcome=0.0, prediction=0.0),\n",
       " Row(Outcome=0.0, prediction=0.0),\n",
       " Row(Outcome=1.0, prediction=1.0),\n",
       " Row(Outcome=1.0, prediction=0.0),\n",
       " Row(Outcome=0.0, prediction=1.0),\n",
       " Row(Outcome=0.0, prediction=1.0),\n",
       " Row(Outcome=0.0, prediction=1.0),\n",
       " Row(Outcome=1.0, prediction=1.0),\n",
       " Row(Outcome=1.0, prediction=1.0),\n",
       " Row(Outcome=0.0, prediction=0.0),\n",
       " Row(Outcome=0.0, prediction=0.0),\n",
       " Row(Outcome=0.0, prediction=0.0),\n",
       " Row(Outcome=0.0, prediction=0.0),\n",
       " Row(Outcome=0.0, prediction=0.0),\n",
       " Row(Outcome=0.0, prediction=0.0),\n",
       " Row(Outcome=0.0, prediction=0.0),\n",
       " Row(Outcome=0.0, prediction=0.0),\n",
       " Row(Outcome=1.0, prediction=1.0),\n",
       " Row(Outcome=0.0, prediction=0.0),\n",
       " Row(Outcome=0.0, prediction=0.0),\n",
       " Row(Outcome=0.0, prediction=0.0),\n",
       " Row(Outcome=0.0, prediction=0.0),\n",
       " Row(Outcome=0.0, prediction=0.0),\n",
       " Row(Outcome=0.0, prediction=0.0),\n",
       " Row(Outcome=0.0, prediction=0.0),\n",
       " Row(Outcome=0.0, prediction=0.0),\n",
       " Row(Outcome=0.0, prediction=0.0),\n",
       " Row(Outcome=0.0, prediction=0.0),\n",
       " Row(Outcome=0.0, prediction=0.0),\n",
       " Row(Outcome=1.0, prediction=0.0),\n",
       " Row(Outcome=0.0, prediction=0.0),\n",
       " Row(Outcome=0.0, prediction=0.0),\n",
       " Row(Outcome=0.0, prediction=0.0),\n",
       " Row(Outcome=0.0, prediction=0.0),\n",
       " Row(Outcome=0.0, prediction=0.0),\n",
       " Row(Outcome=1.0, prediction=0.0),\n",
       " Row(Outcome=0.0, prediction=0.0),\n",
       " Row(Outcome=0.0, prediction=0.0),\n",
       " Row(Outcome=1.0, prediction=0.0),\n",
       " Row(Outcome=0.0, prediction=0.0),\n",
       " Row(Outcome=0.0, prediction=1.0),\n",
       " Row(Outcome=1.0, prediction=0.0),\n",
       " Row(Outcome=0.0, prediction=0.0),\n",
       " Row(Outcome=0.0, prediction=0.0),\n",
       " Row(Outcome=0.0, prediction=0.0),\n",
       " Row(Outcome=0.0, prediction=0.0),\n",
       " Row(Outcome=0.0, prediction=0.0),\n",
       " Row(Outcome=0.0, prediction=0.0),\n",
       " Row(Outcome=1.0, prediction=0.0),\n",
       " Row(Outcome=1.0, prediction=1.0),\n",
       " Row(Outcome=1.0, prediction=1.0),\n",
       " Row(Outcome=1.0, prediction=1.0),\n",
       " Row(Outcome=0.0, prediction=0.0),\n",
       " Row(Outcome=0.0, prediction=0.0),\n",
       " Row(Outcome=0.0, prediction=0.0),\n",
       " Row(Outcome=0.0, prediction=0.0),\n",
       " Row(Outcome=0.0, prediction=0.0),\n",
       " Row(Outcome=1.0, prediction=0.0),\n",
       " Row(Outcome=0.0, prediction=0.0),\n",
       " Row(Outcome=0.0, prediction=0.0),\n",
       " Row(Outcome=0.0, prediction=0.0),\n",
       " Row(Outcome=0.0, prediction=0.0),\n",
       " Row(Outcome=0.0, prediction=0.0),\n",
       " Row(Outcome=0.0, prediction=0.0),\n",
       " Row(Outcome=0.0, prediction=0.0),\n",
       " Row(Outcome=0.0, prediction=0.0),\n",
       " Row(Outcome=0.0, prediction=0.0),\n",
       " Row(Outcome=0.0, prediction=0.0),\n",
       " Row(Outcome=0.0, prediction=0.0),\n",
       " Row(Outcome=0.0, prediction=0.0),\n",
       " Row(Outcome=0.0, prediction=0.0),\n",
       " Row(Outcome=0.0, prediction=0.0),\n",
       " Row(Outcome=0.0, prediction=0.0),\n",
       " Row(Outcome=0.0, prediction=0.0),\n",
       " Row(Outcome=0.0, prediction=0.0),\n",
       " Row(Outcome=0.0, prediction=0.0),\n",
       " Row(Outcome=0.0, prediction=0.0),\n",
       " Row(Outcome=0.0, prediction=0.0),\n",
       " Row(Outcome=0.0, prediction=0.0),\n",
       " Row(Outcome=0.0, prediction=0.0),\n",
       " Row(Outcome=0.0, prediction=0.0),\n",
       " Row(Outcome=1.0, prediction=1.0),\n",
       " Row(Outcome=1.0, prediction=0.0),\n",
       " Row(Outcome=1.0, prediction=0.0),\n",
       " Row(Outcome=1.0, prediction=0.0),\n",
       " Row(Outcome=1.0, prediction=1.0),\n",
       " Row(Outcome=1.0, prediction=1.0),\n",
       " Row(Outcome=1.0, prediction=1.0),\n",
       " Row(Outcome=0.0, prediction=0.0),\n",
       " Row(Outcome=0.0, prediction=0.0),\n",
       " Row(Outcome=0.0, prediction=0.0),\n",
       " Row(Outcome=0.0, prediction=0.0),\n",
       " Row(Outcome=0.0, prediction=0.0),\n",
       " Row(Outcome=1.0, prediction=0.0),\n",
       " Row(Outcome=0.0, prediction=0.0),\n",
       " Row(Outcome=0.0, prediction=0.0),\n",
       " Row(Outcome=0.0, prediction=0.0),\n",
       " Row(Outcome=0.0, prediction=0.0),\n",
       " Row(Outcome=0.0, prediction=0.0),\n",
       " Row(Outcome=1.0, prediction=0.0),\n",
       " Row(Outcome=1.0, prediction=0.0),\n",
       " Row(Outcome=0.0, prediction=1.0),\n",
       " Row(Outcome=0.0, prediction=0.0),\n",
       " Row(Outcome=0.0, prediction=0.0),\n",
       " Row(Outcome=1.0, prediction=1.0),\n",
       " Row(Outcome=1.0, prediction=1.0),\n",
       " Row(Outcome=1.0, prediction=1.0),\n",
       " Row(Outcome=0.0, prediction=1.0),\n",
       " Row(Outcome=0.0, prediction=0.0),\n",
       " Row(Outcome=0.0, prediction=0.0),\n",
       " Row(Outcome=0.0, prediction=0.0),\n",
       " Row(Outcome=0.0, prediction=0.0),\n",
       " Row(Outcome=0.0, prediction=0.0),\n",
       " Row(Outcome=0.0, prediction=0.0),\n",
       " Row(Outcome=0.0, prediction=0.0),\n",
       " Row(Outcome=1.0, prediction=1.0),\n",
       " Row(Outcome=0.0, prediction=0.0),\n",
       " Row(Outcome=0.0, prediction=0.0),\n",
       " Row(Outcome=0.0, prediction=0.0),\n",
       " Row(Outcome=0.0, prediction=0.0),\n",
       " Row(Outcome=1.0, prediction=0.0),\n",
       " Row(Outcome=0.0, prediction=0.0),\n",
       " Row(Outcome=0.0, prediction=0.0),\n",
       " Row(Outcome=0.0, prediction=0.0),\n",
       " Row(Outcome=1.0, prediction=0.0),\n",
       " Row(Outcome=0.0, prediction=0.0),\n",
       " Row(Outcome=0.0, prediction=0.0),\n",
       " Row(Outcome=0.0, prediction=0.0),\n",
       " Row(Outcome=0.0, prediction=0.0),\n",
       " Row(Outcome=0.0, prediction=0.0),\n",
       " Row(Outcome=1.0, prediction=1.0),\n",
       " Row(Outcome=0.0, prediction=0.0),\n",
       " Row(Outcome=1.0, prediction=0.0),\n",
       " Row(Outcome=0.0, prediction=0.0),\n",
       " Row(Outcome=1.0, prediction=1.0),\n",
       " Row(Outcome=1.0, prediction=1.0),\n",
       " Row(Outcome=1.0, prediction=1.0),\n",
       " Row(Outcome=1.0, prediction=1.0),\n",
       " Row(Outcome=0.0, prediction=1.0),\n",
       " Row(Outcome=0.0, prediction=0.0),\n",
       " Row(Outcome=0.0, prediction=0.0),\n",
       " Row(Outcome=0.0, prediction=0.0),\n",
       " Row(Outcome=0.0, prediction=0.0),\n",
       " Row(Outcome=0.0, prediction=0.0),\n",
       " Row(Outcome=0.0, prediction=0.0),\n",
       " Row(Outcome=0.0, prediction=0.0),\n",
       " Row(Outcome=0.0, prediction=0.0),\n",
       " Row(Outcome=0.0, prediction=0.0),\n",
       " Row(Outcome=0.0, prediction=0.0),\n",
       " Row(Outcome=0.0, prediction=0.0),\n",
       " Row(Outcome=0.0, prediction=0.0),\n",
       " Row(Outcome=0.0, prediction=0.0),\n",
       " Row(Outcome=0.0, prediction=1.0),\n",
       " Row(Outcome=0.0, prediction=0.0),\n",
       " Row(Outcome=1.0, prediction=1.0),\n",
       " Row(Outcome=1.0, prediction=0.0),\n",
       " Row(Outcome=0.0, prediction=0.0),\n",
       " Row(Outcome=0.0, prediction=0.0),\n",
       " Row(Outcome=0.0, prediction=0.0),\n",
       " Row(Outcome=0.0, prediction=0.0),\n",
       " Row(Outcome=0.0, prediction=0.0),\n",
       " Row(Outcome=1.0, prediction=0.0),\n",
       " Row(Outcome=0.0, prediction=0.0),\n",
       " Row(Outcome=0.0, prediction=0.0),\n",
       " Row(Outcome=1.0, prediction=0.0),\n",
       " Row(Outcome=0.0, prediction=0.0),\n",
       " Row(Outcome=0.0, prediction=0.0),\n",
       " Row(Outcome=1.0, prediction=0.0),\n",
       " Row(Outcome=1.0, prediction=1.0),\n",
       " Row(Outcome=1.0, prediction=0.0),\n",
       " Row(Outcome=0.0, prediction=1.0),\n",
       " Row(Outcome=1.0, prediction=1.0),\n",
       " Row(Outcome=0.0, prediction=1.0),\n",
       " Row(Outcome=1.0, prediction=1.0),\n",
       " Row(Outcome=1.0, prediction=1.0),\n",
       " Row(Outcome=0.0, prediction=0.0),\n",
       " Row(Outcome=1.0, prediction=0.0),\n",
       " Row(Outcome=1.0, prediction=0.0),\n",
       " Row(Outcome=1.0, prediction=0.0),\n",
       " Row(Outcome=0.0, prediction=0.0),\n",
       " Row(Outcome=0.0, prediction=0.0),\n",
       " Row(Outcome=1.0, prediction=1.0),\n",
       " Row(Outcome=1.0, prediction=1.0),\n",
       " Row(Outcome=0.0, prediction=0.0),\n",
       " Row(Outcome=0.0, prediction=0.0),\n",
       " Row(Outcome=0.0, prediction=0.0),\n",
       " Row(Outcome=1.0, prediction=1.0),\n",
       " Row(Outcome=1.0, prediction=0.0),\n",
       " Row(Outcome=0.0, prediction=0.0),\n",
       " Row(Outcome=1.0, prediction=0.0),\n",
       " Row(Outcome=0.0, prediction=1.0),\n",
       " Row(Outcome=1.0, prediction=0.0),\n",
       " Row(Outcome=1.0, prediction=1.0),\n",
       " Row(Outcome=1.0, prediction=1.0),\n",
       " Row(Outcome=1.0, prediction=1.0),\n",
       " Row(Outcome=1.0, prediction=1.0),\n",
       " Row(Outcome=0.0, prediction=1.0),\n",
       " Row(Outcome=1.0, prediction=1.0),\n",
       " Row(Outcome=0.0, prediction=0.0),\n",
       " Row(Outcome=1.0, prediction=0.0),\n",
       " Row(Outcome=1.0, prediction=0.0),\n",
       " Row(Outcome=0.0, prediction=1.0),\n",
       " Row(Outcome=1.0, prediction=1.0),\n",
       " Row(Outcome=1.0, prediction=1.0),\n",
       " Row(Outcome=1.0, prediction=1.0),\n",
       " Row(Outcome=1.0, prediction=1.0),\n",
       " Row(Outcome=1.0, prediction=1.0),\n",
       " Row(Outcome=1.0, prediction=1.0),\n",
       " Row(Outcome=1.0, prediction=0.0),\n",
       " Row(Outcome=0.0, prediction=0.0),\n",
       " Row(Outcome=0.0, prediction=0.0),\n",
       " Row(Outcome=1.0, prediction=0.0),\n",
       " Row(Outcome=0.0, prediction=1.0),\n",
       " Row(Outcome=0.0, prediction=0.0),\n",
       " Row(Outcome=1.0, prediction=1.0),\n",
       " Row(Outcome=1.0, prediction=1.0),\n",
       " Row(Outcome=0.0, prediction=1.0),\n",
       " Row(Outcome=1.0, prediction=1.0),\n",
       " Row(Outcome=0.0, prediction=0.0),\n",
       " Row(Outcome=0.0, prediction=0.0),\n",
       " Row(Outcome=0.0, prediction=0.0),\n",
       " Row(Outcome=1.0, prediction=0.0),\n",
       " Row(Outcome=0.0, prediction=1.0),\n",
       " Row(Outcome=0.0, prediction=1.0),\n",
       " Row(Outcome=1.0, prediction=1.0),\n",
       " Row(Outcome=0.0, prediction=1.0),\n",
       " Row(Outcome=1.0, prediction=1.0),\n",
       " Row(Outcome=1.0, prediction=1.0)]"
      ]
     },
     "execution_count": 28,
     "metadata": {},
     "output_type": "execute_result"
    }
   ],
   "source": [
    "predictionAndLabels.collect()"
   ]
  },
  {
   "cell_type": "code",
   "execution_count": 29,
   "id": "fd42dd02-f5bb-444f-a93d-b0673a5dc18a",
   "metadata": {},
   "outputs": [
    {
     "name": "stderr",
     "output_type": "stream",
     "text": [
      "C:\\Users\\Acer\\Desktop\\Pyspark_Proj\\my_venv\\lib\\site-packages\\pyspark\\sql\\context.py:158: FutureWarning: Deprecated in 3.0.0. Use SparkSession.builder.getOrCreate() instead.\n",
      "  warnings.warn(\n"
     ]
    },
    {
     "name": "stdout",
     "output_type": "stream",
     "text": [
      "AUC_LR =  0.7569466248037677\n"
     ]
    }
   ],
   "source": [
    "#ประเมินประสิทธิภาพของ Logistic Regression model ด้วย AOC\n",
    "# AUC (Area Under the Curve) คือ พื้นที่ใต้กราฟ ROC\n",
    "# ค่า AUC ที่ใกล้ 1 บ่งบอกว่าโมเดลมีความสามารถดีในการแยกแยะระหว่างสองคลาส\n",
    "# ค่า AUC ที่ใกล้ 0.5 แสดงว่าโมเดลไม่มีความสามารถในการแยกแยะ (คล้ายกับการทำนายแบบสุ่ม)\n",
    "from pyspark.mllib.evaluation import BinaryClassificationMetrics\n",
    "# สร้างออบเจ็กต์ BinaryClassificationMetrics จาก RDD ที่ประกอบด้วย Outcome และ prediction เพื่อเปรียบเทียบ\n",
    "metrics = BinaryClassificationMetrics(predictionAndLabels)\n",
    "# Area under ROC curve\n",
    "AUC_LR = metrics.areaUnderROC\n",
    "print(\"AUC_LR = \" ,AUC_LR)"
   ]
  },
  {
   "cell_type": "code",
   "execution_count": 30,
   "id": "24686bb6-ce45-4133-9ec0-e1a9b1398d8b",
   "metadata": {},
   "outputs": [
    {
     "name": "stdout",
     "output_type": "stream",
     "text": [
      "Accuracy_LR =  0.7739463601532567\n",
      "Precision_LR =  0.7679769874351157\n",
      "Recall_LR =  0.7739463601532567\n",
      "F1-Score_LR =  0.7640004324316402\n"
     ]
    }
   ],
   "source": [
    "from pyspark.ml.evaluation import MulticlassClassificationEvaluator\n",
    "# ประเมิน accuracy ของ  Logistic Regression model ในการทำนาย โรคเบาหวาน\n",
    "# labelCol=\"Outcome\" กำหนด Outcome เป็น ค่าความจริง (actual value)\n",
    "# predictionCol=\"prediction\" ชื่อของคอลัมน์ที่มีค่าที่โมเดลทำนาย\n",
    "# metricName=\"accuracy\" ต้องการคำนวณ accuracy ของโมเดล\n",
    "evaluator_accuracy = MulticlassClassificationEvaluator(labelCol=\"Outcome\", predictionCol=\"prediction\", metricName=\"accuracy\")\n",
    "accuracy_LR = evaluator_accuracy.evaluate(prediction_test)\n",
    "\n",
    "evaluator_precision = MulticlassClassificationEvaluator(labelCol=\"Outcome\", predictionCol=\"prediction\", metricName=\"weightedPrecision\")\n",
    "precision_LR = evaluator_precision.evaluate(prediction_test)\n",
    "\n",
    "evaluator_recall = MulticlassClassificationEvaluator(labelCol=\"Outcome\", predictionCol=\"prediction\", metricName=\"weightedRecall\")\n",
    "recall_LR = evaluator_recall.evaluate(prediction_test)\n",
    "\n",
    "evaluator_f1 = MulticlassClassificationEvaluator(labelCol=\"Outcome\", predictionCol=\"prediction\", metricName=\"f1\")\n",
    "f1_LR = evaluator_f1.evaluate(prediction_test)\n",
    "\n",
    "print (\"Accuracy_LR = \" ,accuracy_LR)\n",
    "print(\"Precision_LR = \", precision_LR)\n",
    "print(\"Recall_LR = \", recall_LR)\n",
    "print(\"F1-Score_LR = \", f1_LR)"
   ]
  },
  {
   "cell_type": "markdown",
   "id": "7f4c2b87-eb32-47b7-9838-9cc4a8a51123",
   "metadata": {},
   "source": [
    "## NaiveBayes"
   ]
  },
  {
   "cell_type": "code",
   "execution_count": 31,
   "id": "0360318a-ad09-439f-bb7e-7e59fecf9d08",
   "metadata": {},
   "outputs": [],
   "source": [
    "from pyspark.ml.classification import NaiveBayes\n",
    "# smoothing=1.0: ตั้งค่าพารามิเตอร์การเรียบ (smoothing parameter) สำหรับการปรับค่าให้เหมาะสมใน Naive Bayes; โดยค่า smoothing นี้ใช้ในการจัดการกับปัญหาค่าศูนย์ (zero-frequency problem) โดยการเพิ่มค่าเล็กน้อยให้กับทุกๆ ฟีเจอร์\n",
    "naive_bayes = NaiveBayes(featuresCol='Scaled_features',labelCol='Outcome',smoothing=1.0)\n",
    "model = naive_bayes.fit(train)"
   ]
  },
  {
   "cell_type": "code",
   "execution_count": 32,
   "id": "8a60cad7-6b62-452d-993d-02bbd66288fa",
   "metadata": {},
   "outputs": [
    {
     "name": "stdout",
     "output_type": "stream",
     "text": [
      "+-------+----------+\n",
      "|Outcome|prediction|\n",
      "+-------+----------+\n",
      "|    0.0|       1.0|\n",
      "|    1.0|       1.0|\n",
      "|    0.0|       0.0|\n",
      "|    1.0|       0.0|\n",
      "|    1.0|       0.0|\n",
      "|    1.0|       0.0|\n",
      "|    0.0|       0.0|\n",
      "|    0.0|       0.0|\n",
      "|    0.0|       0.0|\n",
      "|    0.0|       0.0|\n",
      "|    0.0|       0.0|\n",
      "|    0.0|       0.0|\n",
      "|    1.0|       0.0|\n",
      "|    0.0|       0.0|\n",
      "|    0.0|       0.0|\n",
      "|    0.0|       0.0|\n",
      "|    0.0|       0.0|\n",
      "|    0.0|       0.0|\n",
      "|    0.0|       0.0|\n",
      "|    0.0|       0.0|\n",
      "+-------+----------+\n",
      "only showing top 20 rows\n",
      "\n"
     ]
    }
   ],
   "source": [
    "prediction_test = model.transform(test)\n",
    "prediction_test.select(\"Outcome\",\"prediction\").show()"
   ]
  },
  {
   "cell_type": "code",
   "execution_count": 33,
   "id": "fd846fa1-20dc-4b20-a994-5c5541da42ae",
   "metadata": {},
   "outputs": [],
   "source": [
    "predictionAndLabels = prediction_test.select(\"Outcome\",\"prediction\").rdd"
   ]
  },
  {
   "cell_type": "code",
   "execution_count": 34,
   "id": "24ea0588-f08f-480a-bb00-7f69428e7cc6",
   "metadata": {},
   "outputs": [
    {
     "name": "stdout",
     "output_type": "stream",
     "text": [
      "Accuracy_NB 0.6781609195402298\n",
      "Precision_NB =  0.6675840795623009\n",
      "Recall_NB =  0.6781609195402298\n",
      "F1-Score_NB =  0.5897678611674554\n"
     ]
    }
   ],
   "source": [
    "evaluator_accuracy = MulticlassClassificationEvaluator(labelCol=\"Outcome\", predictionCol=\"prediction\", metricName=\"accuracy\")\n",
    "accuracy_NB = evaluator_accuracy.evaluate(prediction_test)\n",
    "\n",
    "evaluator_precision = MulticlassClassificationEvaluator(labelCol=\"Outcome\", predictionCol=\"prediction\", metricName=\"weightedPrecision\")\n",
    "precision_NB = evaluator_precision.evaluate(prediction_test)\n",
    "\n",
    "evaluator_recall = MulticlassClassificationEvaluator(labelCol=\"Outcome\", predictionCol=\"prediction\", metricName=\"weightedRecall\")\n",
    "recall_NB = evaluator_recall.evaluate(prediction_test)\n",
    "\n",
    "evaluator_f1 = MulticlassClassificationEvaluator(labelCol=\"Outcome\", predictionCol=\"prediction\", metricName=\"f1\")\n",
    "f1_NB = evaluator_f1.evaluate(prediction_test) \n",
    "\n",
    "print (\"Accuracy_NB\",accuracy_NB)\n",
    "print(\"Precision_NB = \", precision_NB)\n",
    "print(\"Recall_NB = \", recall_NB)\n",
    "print(\"F1-Score_NB = \", f1_NB)"
   ]
  },
  {
   "cell_type": "code",
   "execution_count": 35,
   "id": "70d3a9c6-e594-4548-a669-f23778db0b9c",
   "metadata": {},
   "outputs": [
    {
     "name": "stdout",
     "output_type": "stream",
     "text": [
      "Area under ROC =  0.6615095430884904\n"
     ]
    }
   ],
   "source": [
    "metrics = BinaryClassificationMetrics(predictionAndLabels)\n",
    "\n",
    "# Area under ROC curve\n",
    "AUC_NB = metrics.areaUnderROC\n",
    "print(\"Area under ROC = \" , AUC_NB)"
   ]
  },
  {
   "cell_type": "markdown",
   "id": "c1348a6e-e9a2-4572-9a02-6fe5ef75ef47",
   "metadata": {},
   "source": [
    "## GBTClassifier (Gradient-Boosted Tree Classifier)"
   ]
  },
  {
   "cell_type": "markdown",
   "id": "5a01a1ce-a8f4-4aa7-ae33-b82d75a9a9fc",
   "metadata": {},
   "source": [
    "- GBTClassifier (Gradient-Boosted Tree Classifier) เป็นหนึ่งในอัลกอริธึมการเรียนรู้ของเครื่องที่ใช้สำหรับการจำแนกประเภท (classification) ซึ่งใช้เทคนิคการเรียนรู้แบบการเพิ่มประสิทธิภาพ (boosting) โดยการใช้ต้นไม้ตัดสิน (decision trees) หลายต้นเพื่อสร้างโมเดลที่มีความสามารถในการจำแนกประเภทได้ดีขึ้น\n",
    "- ใน GBTClassifier, โมเดลจะใช้ต้นไม้ตัดสิน (decision trees) ขนาดเล็กที่เรียกว่า \"stumps\" ซึ่งเป็นต้นไม้ที่มีความลึกน้อย\n",
    "ต้นไม้เหล่านี้จะถูกรวมเข้าด้วยกันเพื่อสร้างโมเดลที่สามารถจำแนกประเภทได้อย่างมีประสิทธิภาพ"
   ]
  },
  {
   "cell_type": "code",
   "execution_count": 36,
   "id": "7a14b5e7-c7c1-44ac-a2df-e91d93d35a69",
   "metadata": {},
   "outputs": [
    {
     "name": "stdout",
     "output_type": "stream",
     "text": [
      "+-------+----------+\n",
      "|Outcome|prediction|\n",
      "+-------+----------+\n",
      "|    0.0|       0.0|\n",
      "|    1.0|       0.0|\n",
      "|    0.0|       0.0|\n",
      "|    1.0|       1.0|\n",
      "|    1.0|       1.0|\n",
      "|    1.0|       1.0|\n",
      "|    0.0|       0.0|\n",
      "|    0.0|       0.0|\n",
      "|    0.0|       0.0|\n",
      "|    0.0|       0.0|\n",
      "|    0.0|       0.0|\n",
      "|    0.0|       0.0|\n",
      "|    1.0|       0.0|\n",
      "|    0.0|       0.0|\n",
      "|    0.0|       0.0|\n",
      "|    0.0|       0.0|\n",
      "|    0.0|       0.0|\n",
      "|    0.0|       0.0|\n",
      "|    0.0|       0.0|\n",
      "|    0.0|       0.0|\n",
      "+-------+----------+\n",
      "only showing top 20 rows\n",
      "\n"
     ]
    }
   ],
   "source": [
    "from pyspark.ml.classification import GBTClassifier\n",
    "gradient_boost_class = GBTClassifier(labelCol=\"Outcome\", featuresCol=\"Scaled_features\")\n",
    "model = gradient_boost_class.fit(train)\n",
    "prediction_test = model.transform(test)\n",
    "prediction_test.select(\"Outcome\",\"prediction\").show()"
   ]
  },
  {
   "cell_type": "code",
   "execution_count": 37,
   "id": "00d6d475-9ed8-494e-8417-03775b224238",
   "metadata": {},
   "outputs": [],
   "source": [
    "# แปลง DataFrame ที่มีการคาดการณ์ (predictions) เป็น RDD เพื่อให้สามารถใช้กับ API ของ PySpark MLlib ที่ต้องการ RDD และเพื่อทำการคำนวณเมตริกต่างๆ ที่เกี่ยวข้องกับการประเมินโมเดลการจำแนกประเภท\n",
    "predictionAndLabels = prediction_test.select(\"Outcome\",\"prediction\").rdd"
   ]
  },
  {
   "cell_type": "code",
   "execution_count": 38,
   "id": "ddbd44a4-5a33-4549-a15d-0ad51460ea26",
   "metadata": {},
   "outputs": [
    {
     "name": "stdout",
     "output_type": "stream",
     "text": [
      "Area under ROC =  0.7120370370370372\n"
     ]
    }
   ],
   "source": [
    "metrics = BinaryClassificationMetrics(predictionAndLabels)\n",
    "\n",
    "# Area under ROC curve\n",
    "AUC_GBT = metrics.areaUnderROC\n",
    "print(\"Area under ROC = \" , AUC_GBT)"
   ]
  },
  {
   "cell_type": "code",
   "execution_count": 39,
   "id": "f4bc50a3-3b00-41cc-a668-b0d5da41fdf5",
   "metadata": {},
   "outputs": [
    {
     "name": "stdout",
     "output_type": "stream",
     "text": [
      "Accuracy_GBT 0.7432950191570882\n",
      "Precision_GBT =  0.7388746984532424\n",
      "Recall_GBT =  0.7432950191570881\n",
      "F1-Score_GBT =  0.7405238773352929\n"
     ]
    }
   ],
   "source": [
    "evaluator_accuracy = MulticlassClassificationEvaluator( labelCol=\"Outcome\", predictionCol=\"prediction\", metricName=\"accuracy\")\n",
    "accuracy_GBT = evaluator_accuracy.evaluate(prediction_test)\n",
    "\n",
    "evaluator_precision = MulticlassClassificationEvaluator(labelCol=\"Outcome\", predictionCol=\"prediction\", metricName=\"weightedPrecision\")\n",
    "precision_GBT = evaluator_precision.evaluate(prediction_test)\n",
    "\n",
    "evaluator_recall = MulticlassClassificationEvaluator(labelCol=\"Outcome\", predictionCol=\"prediction\", metricName=\"weightedRecall\")\n",
    "recall_GBT = evaluator_recall.evaluate(prediction_test)\n",
    "\n",
    "evaluator_f1 = MulticlassClassificationEvaluator(labelCol=\"Outcome\", predictionCol=\"prediction\", metricName=\"f1\")\n",
    "f1_GBT = evaluator_f1.evaluate(prediction_test) \n",
    "\n",
    "print (\"Accuracy_GBT\",accuracy_GBT)\n",
    "print(\"Precision_GBT = \", precision_GBT)\n",
    "print(\"Recall_GBT = \", recall_GBT)\n",
    "print(\"F1-Score_GBT = \", f1_GBT)\n"
   ]
  },
  {
   "cell_type": "markdown",
   "id": "51b1fa33-788d-4cf7-97a2-b96f2152834f",
   "metadata": {},
   "source": [
    "## RandomForestClassifier"
   ]
  },
  {
   "cell_type": "markdown",
   "id": "50c24981-edcc-41e0-903c-eded32d6d779",
   "metadata": {},
   "source": [
    "-  เป็นอัลกอริธึมการเรียนรู้ของเครื่องที่ใช้สำหรับการจำแนกประเภท (classification) ซึ่งอิงจากเทคนิคการสร้างหลายต้นไม้ตัดสิน (decision trees) และรวมผลลัพธ์ของต้นไม้เหล่านั้นเพื่อปรับปรุงประสิทธิภาพการจำแนกประเภทและลดความเสี่ยงจากการ overfitting\n",
    "-  Overfitting คือ ปัญหาที่เกิดขึ้นเมื่อโมเดลการเรียนรู้ของเครื่อง (machine learning model) มีความสามารถในการปรับตัวกับชุดข้อมูลการฝึกฝน (training data) มากเกินไปจนเกิดการเรียนรู้รายละเอียดหรือความผันผวนที่ไม่เป็นตัวแทนของข้อมูลทั่วไป (generalization) ซึ่งทำให้โมเดลนั้นทำงานได้ดีบนชุดข้อมูลการฝึกฝน แต่มีประสิทธิภาพต่ำเมื่อทดสอบกับชุดข้อมูลใหม่ (testing data) ที่ไม่เคยเห็นมาก่อน"
   ]
  },
  {
   "cell_type": "code",
   "execution_count": 40,
   "id": "cf4fa5d1-797c-4804-9924-ef0740de8008",
   "metadata": {},
   "outputs": [
    {
     "name": "stdout",
     "output_type": "stream",
     "text": [
      "+-------+----------+\n",
      "|Outcome|prediction|\n",
      "+-------+----------+\n",
      "|    0.0|       0.0|\n",
      "|    1.0|       0.0|\n",
      "|    0.0|       0.0|\n",
      "|    1.0|       0.0|\n",
      "|    1.0|       1.0|\n",
      "|    1.0|       1.0|\n",
      "|    0.0|       0.0|\n",
      "|    0.0|       0.0|\n",
      "|    0.0|       0.0|\n",
      "|    0.0|       0.0|\n",
      "|    0.0|       0.0|\n",
      "|    0.0|       0.0|\n",
      "|    1.0|       0.0|\n",
      "|    0.0|       0.0|\n",
      "|    0.0|       0.0|\n",
      "|    0.0|       0.0|\n",
      "|    0.0|       0.0|\n",
      "|    0.0|       0.0|\n",
      "|    0.0|       0.0|\n",
      "|    0.0|       0.0|\n",
      "+-------+----------+\n",
      "only showing top 20 rows\n",
      "\n"
     ]
    }
   ],
   "source": [
    "from pyspark.ml.classification import RandomForestClassifier\n",
    "# numTrees=40: กำหนดจำนวนต้นไม้ (trees) ที่จะสร้างใน Random Forest\n",
    "random_forest_classifier = RandomForestClassifier(labelCol=\"Outcome\", featuresCol=\"Scaled_features\", numTrees=40)\n",
    "model = random_forest_classifier.fit(train)\n",
    "prediction_test = model.transform(test)\n",
    "prediction_test.select(\"Outcome\",\"prediction\").show()"
   ]
  },
  {
   "cell_type": "code",
   "execution_count": 41,
   "id": "066636f0-92b1-43a5-b217-aec931c4e9b1",
   "metadata": {},
   "outputs": [],
   "source": [
    "predictionAndLabels = prediction_test.select(\"Outcome\",\"prediction\").rdd"
   ]
  },
  {
   "cell_type": "code",
   "execution_count": 42,
   "id": "175e4efe-093b-448c-b2dd-499f511552e5",
   "metadata": {},
   "outputs": [
    {
     "name": "stdout",
     "output_type": "stream",
     "text": [
      "Area under ROC =  0.7327650111193477\n"
     ]
    }
   ],
   "source": [
    "metrics = BinaryClassificationMetrics(predictionAndLabels)\n",
    "\n",
    "# Area under ROC curve\n",
    "AUC_RF = metrics.areaUnderROC\n",
    "print(\"Area under ROC = \", AUC_RF)"
   ]
  },
  {
   "cell_type": "code",
   "execution_count": 43,
   "id": "31eaefd1-59cb-4c7e-87da-e237ecd87149",
   "metadata": {},
   "outputs": [
    {
     "name": "stdout",
     "output_type": "stream",
     "text": [
      "Accuracy_RF 0.7586206896551724\n",
      "Precision_RF =  0.7388746984532424\n",
      "Recall_RF =  0.7432950191570881\n",
      "F1-Score_RF =  0.7405238773352929\n"
     ]
    }
   ],
   "source": [
    "evaluator_accuracy = MulticlassClassificationEvaluator( labelCol=\"Outcome\", predictionCol=\"prediction\", metricName=\"accuracy\")\n",
    "accuracy_RF= evaluator_accuracy.evaluate(prediction_test)\n",
    "\n",
    "evaluator_precision = MulticlassClassificationEvaluator(labelCol=\"Outcome\", predictionCol=\"prediction\", metricName=\"weightedPrecision\")\n",
    "precision_RF = evaluator_precision.evaluate(prediction_test)\n",
    "\n",
    "evaluator_recall = MulticlassClassificationEvaluator(labelCol=\"Outcome\", predictionCol=\"prediction\", metricName=\"weightedRecall\")\n",
    "recall_RF = evaluator_recall.evaluate(prediction_test)\n",
    "\n",
    "evaluator_f1 = MulticlassClassificationEvaluator(labelCol=\"Outcome\", predictionCol=\"prediction\", metricName=\"f1\")\n",
    "f1_RF = evaluator_f1.evaluate(prediction_test) \n",
    "\n",
    "print (\"Accuracy_RF\",accuracy_RF)\n",
    "print(\"Precision_RF = \", precision_GBT)\n",
    "print(\"Recall_RF = \", recall_GBT)\n",
    "print(\"F1-Score_RF = \", f1_GBT)"
   ]
  },
  {
   "cell_type": "markdown",
   "id": "95ce86d7-67ec-4a78-8b8a-dfd792b84604",
   "metadata": {},
   "source": [
    "## Evaluation"
   ]
  },
  {
   "cell_type": "markdown",
   "id": "b3f9b8ef-0a9f-4606-93aa-a191f7144577",
   "metadata": {},
   "source": [
    "### Compare F1-score of 4 models"
   ]
  },
  {
   "cell_type": "code",
   "execution_count": 44,
   "id": "72630552-719d-4557-9669-5927c34429d8",
   "metadata": {},
   "outputs": [
    {
     "name": "stdout",
     "output_type": "stream",
     "text": [
      "F1-Score of LR :  0.7640004324316402\n",
      "F1-Score of NB :  0.5897678611674554\n",
      "F1-Score of GBT :  0.7405238773352929\n",
      "F1-Score of RF :  0.7513688968707599\n"
     ]
    }
   ],
   "source": [
    "print(\"F1-Score of LR : \",f1_LR)\n",
    "print(\"F1-Score of NB : \",f1_NB)\n",
    "print(\"F1-Score of GBT : \",f1_GBT)\n",
    "print(\"F1-Score of RF : \",f1_RF)"
   ]
  },
  {
   "cell_type": "code",
   "execution_count": 45,
   "id": "b4ed9bd2-3ff3-4079-b6c9-c7c0073a9f43",
   "metadata": {},
   "outputs": [
    {
     "data": {
      "image/png": "[encoded data removed]",
      "text/plain": [
       "<Figure size 1000x600 with 1 Axes>"
      ]
     },
     "metadata": {},
     "output_type": "display_data"
    }
   ],
   "source": [
    "models = ['Logistic Regression', 'Naive Bayes', 'Gradient Boosted Trees', 'Random Forest']\n",
    "f1_scores = [f1_LR, f1_NB, f1_GBT, f1_RF]\n",
    "\n",
    "plt.figure(figsize=(10, 6))\n",
    "plt.bar(models, f1_scores, color=['blue', 'green', 'red', 'purple'])\n",
    "\n",
    "plt.xlabel('Models')\n",
    "plt.ylabel('F1-Score')\n",
    "plt.title('F1-Score Comparison of Different Models')\n",
    "plt.ylim(0, 1)\n",
    "plt.grid(axis='y')\n",
    "\n",
    "# แสดงกราฟ\n",
    "plt.show()"
   ]
  },
  {
   "cell_type": "markdown",
   "id": "3320372a-2100-4fcb-8149-cbdea7a04cb0",
   "metadata": {},
   "source": [
    "- Logistic Regression เป็นโมเดลที่ให้ F1-Score สูงที่สุด บ่งบอกว่ามีประสิทธิภาพในการทำนายว่าเป็น โรคเบาหวาน ในข้อมูลทดสอบได้ดีที่สุด\n",
    "- Random Forest, Gradient Boosted Trees มีค่า F1-Score ที่รองลงมา ถือเป็นตัวเลือกที่ดี แต่ไม่ดีเท่ากับ Logistic Regression\n",
    "- Naive Bayes อาจไม่เหมาะสำหรับกรณีนี้เนื่องจากมี F1-Score ต่ำที่สุด"
   ]
  },
  {
   "cell_type": "markdown",
   "id": "535293b5-5553-4005-a49b-61e110493860",
   "metadata": {},
   "source": [
    "### Compare AUC of 4 models"
   ]
  },
  {
   "cell_type": "code",
   "execution_count": 46,
   "id": "8c2e7cd4-2bf5-4bd6-b75d-431b24ecd32d",
   "metadata": {},
   "outputs": [
    {
     "name": "stdout",
     "output_type": "stream",
     "text": [
      "AUC of LR :  0.7569466248037677\n",
      "AUC of NB :  0.6615095430884904\n",
      "AUC of GBT :  0.7120370370370372\n",
      "AUC of RF :  0.7327650111193477\n"
     ]
    }
   ],
   "source": [
    "print(\"AUC of LR : \",AUC_LR)\n",
    "print(\"AUC of NB : \",AUC_NB)\n",
    "print(\"AUC of GBT : \",AUC_GBT)\n",
    "print(\"AUC of RF : \",AUC_RF)"
   ]
  },
  {
   "cell_type": "code",
   "execution_count": null,
   "id": "804f4f54-5b00-41bd-a1b8-62f0155f2662",
   "metadata": {},
   "outputs": [],
   "source": [
    "models = ['Logistic Regression', 'Naive Bayes', 'Gradient Boosted Trees', 'Random Forest']\n",
    "f1_scores = [AUC_LR, AUC_NB, AUC_GBT, AUC_RF]\n",
    "\n",
    "plt.figure(figsize=(10, 6))\n",
    "plt.bar(models, f1_scores, color=['blue', 'green', 'red', 'purple'])\n",
    "\n",
    "plt.xlabel('Models')\n",
    "plt.ylabel('AUC')\n",
    "plt.title('AUC Comparison of Different Models')\n",
    "plt.ylim(0, 1)\n",
    "plt.grid(axis='y')\n",
    "\n",
    "# แสดงกราฟ\n",
    "plt.show()"
   ]
  },
  {
   "cell_type": "markdown",
   "id": "faa2038f-f8c5-4f7f-be2e-f8a280ac32aa",
   "metadata": {},
   "source": [
    "- Logistic Regression มีค่า AUC สูงที่สุด ซึ่งแสดงให้เห็นความสามารถในการแยกแยะ positive class และ negative class ได้ดีที่สุด\n",
    "- Random Forest เป็นตัวเลือกที่ดีอันดับสอง ในการการแยกแยะ positive class และ negative class\n",
    "- Gradient Boosted Trees และ Naive Bayes มีค่า AUC น้อยที่สุด ซึ่งแแสดงความสามารถในการแยกแยะ class ได้แย่ที่สุดเมื่อเทียบกับโมเดลอื่น"
   ]
  }
 ],
 "metadata": {
  "kernelspec": {
   "display_name": "Python 3 (ipykernel)",
   "language": "python",
   "name": "python3"
  },
  "language_info": {
   "codemirror_mode": {
    "name": "ipython",
    "version": 3
   },
   "file_extension": ".py",
   "mimetype": "text/x-python",
   "name": "python",
   "nbconvert_exporter": "python",
   "pygments_lexer": "ipython3",
   "version": "3.9.13"
  }
 },
 "nbformat": 4,
 "nbformat_minor": 5
}
